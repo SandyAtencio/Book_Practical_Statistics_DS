{
 "cells": [
  {
   "cell_type": "markdown",
   "metadata": {},
   "source": [
    "### Practical Statistics for Data Scientists\n",
    "\n",
    "### capitulo 2 ---> Distribuciones de datos y muestreo\n",
    "\n",
    "Dataset de pronostico del incumplimiento de prestamos"
   ]
  },
  {
   "cell_type": "markdown",
   "metadata": {},
   "source": [
    "#### Distribucion de datos y muestreo"
   ]
  },
  {
   "cell_type": "code",
   "execution_count": 1,
   "metadata": {},
   "outputs": [],
   "source": [
    "import pandas as pd\n",
    "import numpy as np\n",
    "import seaborn as sns\n",
    "import matplotlib.pylab as plt\n",
    "\n",
    "from sklearn.utils import resample\n",
    "from scipy import stats"
   ]
  },
  {
   "cell_type": "code",
   "execution_count": 2,
   "metadata": {},
   "outputs": [],
   "source": [
    "prestamos = pd.read_csv('data/loans_income.csv').squeeze('columns')"
   ]
  },
  {
   "cell_type": "code",
   "execution_count": 3,
   "metadata": {},
   "outputs": [
    {
     "data": {
      "text/plain": [
       "0     67000\n",
       "1     52000\n",
       "2    100000\n",
       "3     78762\n",
       "4     37041\n",
       "Name: x, dtype: int64"
      ]
     },
     "execution_count": 3,
     "metadata": {},
     "output_type": "execute_result"
    }
   ],
   "source": [
    "prestamos.head()"
   ]
  },
  {
   "cell_type": "code",
   "execution_count": 4,
   "metadata": {},
   "outputs": [
    {
     "data": {
      "text/html": [
       "<div>\n",
       "<style scoped>\n",
       "    .dataframe tbody tr th:only-of-type {\n",
       "        vertical-align: middle;\n",
       "    }\n",
       "\n",
       "    .dataframe tbody tr th {\n",
       "        vertical-align: top;\n",
       "    }\n",
       "\n",
       "    .dataframe thead th {\n",
       "        text-align: right;\n",
       "    }\n",
       "</style>\n",
       "<table border=\"1\" class=\"dataframe\">\n",
       "  <thead>\n",
       "    <tr style=\"text-align: right;\">\n",
       "      <th></th>\n",
       "      <th>Ingreso</th>\n",
       "      <th>Tipo</th>\n",
       "    </tr>\n",
       "  </thead>\n",
       "  <tbody>\n",
       "    <tr>\n",
       "      <th>22300</th>\n",
       "      <td>110000.0</td>\n",
       "      <td>Datos</td>\n",
       "    </tr>\n",
       "    <tr>\n",
       "      <th>43397</th>\n",
       "      <td>140000.0</td>\n",
       "      <td>Datos</td>\n",
       "    </tr>\n",
       "    <tr>\n",
       "      <th>45852</th>\n",
       "      <td>30000.0</td>\n",
       "      <td>Datos</td>\n",
       "    </tr>\n",
       "    <tr>\n",
       "      <th>42385</th>\n",
       "      <td>94000.0</td>\n",
       "      <td>Datos</td>\n",
       "    </tr>\n",
       "    <tr>\n",
       "      <th>44730</th>\n",
       "      <td>102050.0</td>\n",
       "      <td>Datos</td>\n",
       "    </tr>\n",
       "  </tbody>\n",
       "</table>\n",
       "</div>"
      ],
      "text/plain": [
       "        Ingreso   Tipo\n",
       "22300  110000.0  Datos\n",
       "43397  140000.0  Datos\n",
       "45852   30000.0  Datos\n",
       "42385   94000.0  Datos\n",
       "44730  102050.0  Datos"
      ]
     },
     "execution_count": 4,
     "metadata": {},
     "output_type": "execute_result"
    }
   ],
   "source": [
    "#primera muestra de 1000 valores\n",
    "sample_data = pd.DataFrame({\n",
    "    'Ingreso': prestamos.sample(1000),\n",
    "    'Tipo': 'Datos',\n",
    "})\n",
    "\n",
    "# segunda muestra de 1000 medias de 5 valores\n",
    "sample_mean_05 = pd.DataFrame({\n",
    "    'Ingreso': [prestamos.sample(5).mean() for _ in range(1000)],\n",
    "    'Tipo': 'Media de 5',\n",
    "})\n",
    "\n",
    "# Tercera muestra de 1000 medias de 20 valores\n",
    "sample_mean_20 = pd.DataFrame({\n",
    "    'Ingreso': [prestamos.sample(20).mean() for _ in range(1000)],\n",
    "    'Tipo': 'Media de 20',\n",
    "})\n",
    "\n",
    "# se concatenan las muestras para poder ser graficadas\n",
    "results = pd.concat([sample_data, sample_mean_05, sample_mean_20])\n",
    "results.head()"
   ]
  },
  {
   "cell_type": "code",
   "execution_count": 5,
   "metadata": {},
   "outputs": [
    {
     "data": {
      "text/plain": [
       "<seaborn.axisgrid.FacetGrid at 0x218c12e7e80>"
      ]
     },
     "execution_count": 5,
     "metadata": {},
     "output_type": "execute_result"
    },
    {
     "data": {
      "image/png": "[encoded data removed]",
      "text/plain": [
       "<Figure size 432x648 with 3 Axes>"
      ]
     },
     "metadata": {
      "needs_background": "light"
     },
     "output_type": "display_data"
    }
   ],
   "source": [
    "#se grafica el dataset que contien el muestreo previamente descrito\n",
    "g = sns.FacetGrid(results, col='Tipo', col_wrap=1, \n",
    "                  height=3, aspect=2)\n",
    "g.map(plt.hist, 'Ingreso', range=[0, 200000], bins=40)\n",
    "g.set_axis_labels('Ingreso', 'Conteo')\n",
    "g.set_titles('{col_name}')"
   ]
  },
  {
   "cell_type": "markdown",
   "metadata": {},
   "source": [
    "- el primer histograma esta ampliamente distribuido y a su vez tiene los datos segasdos hacia la derecha en donde se encuentran los valores mas altos ( aqui podemos ver el comportamiento de la distribucion de datos)\n",
    "- los dos ultimos histogramas tienen los datos mas compactos y tienden a tener forma de campana ( aqui podemos ver el comportamiento de la distribucion muestral)"
   ]
  },
  {
   "cell_type": "markdown",
   "metadata": {},
   "source": [
    "#### Bootstrap"
   ]
  },
  {
   "cell_type": "code",
   "execution_count": 6,
   "metadata": {},
   "outputs": [
    {
     "name": "stdout",
     "output_type": "stream",
     "text": [
      "Original: 62000.0\n",
      "Bias: -70.06450000000041\n",
      "std error: 202.97935537501832\n"
     ]
    }
   ],
   "source": [
    "resultados = []\n",
    "for nrepeat in range(1000):\n",
    "    sample = resample(prestamos)\n",
    "    resultados.append(sample.median())\n",
    "resultados = pd.Series(resultados)\n",
    "print(f'Original: {prestamos.median()}')\n",
    "print(f'Bias: {resultados.mean() -prestamos.median()}')\n",
    "print(f'std error: {resultados.std()}')"
   ]
  },
  {
   "cell_type": "markdown",
   "metadata": {},
   "source": [
    "la estimacion original de la mediana es de 62.000, la distribucion Bootstrap indica que la estimacion tiene un sesgo de -82 y un error estandar de 231"
   ]
  },
  {
   "cell_type": "markdown",
   "metadata": {},
   "source": [
    "#### Distribucion normal\n",
    "##### Diagramas QQ"
   ]
  },
  {
   "cell_type": "code",
   "execution_count": 7,
   "metadata": {},
   "outputs": [
    {
     "data": {
      "text/plain": [
       "Text(0.5, 1.0, 'Diagrama QQ de una muestra de 100 valores extraidos de una distribucion normal estandar')"
      ]
     },
     "execution_count": 7,
     "metadata": {},
     "output_type": "execute_result"
    },
    {
     "data": {
      "image/png": "[encoded data removed]",
      "text/plain": [
       "<Figure size 360x360 with 1 Axes>"
      ]
     },
     "metadata": {
      "needs_background": "light"
     },
     "output_type": "display_data"
    }
   ],
   "source": [
    "fig, ax = plt.subplots(figsize=(5,5))\n",
    "norm_sample = stats.norm.rvs(size=100)\n",
    "stats.probplot(norm_sample, plot = ax)\n",
    "ax.set_title(\"Diagrama QQ de una muestra de 100 valores extraidos de una distribucion normal estandar\")"
   ]
  },
  {
   "cell_type": "markdown",
   "metadata": {},
   "source": [
    "En el eje y tenemos la puntuazion z y en el eje x el cuantil de la distribucion normal, vemos que los puntos caen aproximadamente en la linea diagonal cual siginifica que la distribucion de la muestra se puede considerar cercana a la normal"
   ]
  },
  {
   "cell_type": "markdown",
   "metadata": {},
   "source": [
    "#### Distribuciones de Cola Larga (sesgados o asimetricos)"
   ]
  },
  {
   "cell_type": "code",
   "execution_count": 8,
   "metadata": {},
   "outputs": [
    {
     "data": {
      "text/plain": [
       "Text(0.5, 1.0, 'Diagrama QQ de las rentabilidades d Netflix (NFLX)')"
      ]
     },
     "execution_count": 8,
     "metadata": {},
     "output_type": "execute_result"
    },
    {
     "data": {
      "image/png": "[encoded data removed]",
      "text/plain": [
       "<Figure size 360x360 with 1 Axes>"
      ]
     },
     "metadata": {
      "needs_background": "light"
     },
     "output_type": "display_data"
    }
   ],
   "source": [
    "sp500_px = pd.read_csv('data/sp500_data.csv.gz')\n",
    "nflx = sp500_px.NFLX\n",
    "nflx = np.diff(np.log(nflx[nflx>0]))\n",
    "fig, ax = plt.subplots(figsize=(5,5))\n",
    "stats.probplot(nflx, plot = ax)\n",
    "\n",
    "ax.set_title(\"Diagrama QQ de las rentabilidades d Netflix (NFLX)\")"
   ]
  },
  {
   "cell_type": "markdown",
   "metadata": {},
   "source": [
    "* los puntos estan muy por debajo de la linea para valores bajos y muy por encima para valores altos, lo que indica que los datos no estan distribuidos normalmente\n",
    "* eso significa que es mucho mas probable que se observen valores extremos"
   ]
  },
  {
   "cell_type": "markdown",
   "metadata": {},
   "source": [
    "### Distribucion binomial"
   ]
  },
  {
   "cell_type": "code",
   "execution_count": 9,
   "metadata": {},
   "outputs": [
    {
     "data": {
      "text/plain": [
       "0.0729"
      ]
     },
     "execution_count": 9,
     "metadata": {},
     "output_type": "execute_result"
    }
   ],
   "source": [
    "stats.binom.pmf(2, n=5, p=0.1)"
   ]
  },
  {
   "cell_type": "code",
   "execution_count": 10,
   "metadata": {},
   "outputs": [
    {
     "data": {
      "text/plain": [
       "0.99144"
      ]
     },
     "execution_count": 10,
     "metadata": {},
     "output_type": "execute_result"
    }
   ],
   "source": [
    "stats.binom.cdf(2, n=5, p=0.1)"
   ]
  },
  {
   "cell_type": "markdown",
   "metadata": {},
   "source": [
    "la probabilidad de observar 2 o menos exitos en 5 ensayos, donde la probabilidad de exito para cada ensayo es de 0.1"
   ]
  },
  {
   "cell_type": "markdown",
   "metadata": {},
   "source": [
    "### Distribucion de poisson"
   ]
  },
  {
   "cell_type": "code",
   "execution_count": 11,
   "metadata": {},
   "outputs": [
    {
     "data": {
      "image/png": "[encoded data removed]",
      "text/plain": [
       "<Figure size 432x288 with 1 Axes>"
      ]
     },
     "metadata": {
      "needs_background": "light"
     },
     "output_type": "display_data"
    }
   ],
   "source": [
    "sample=stats.poisson.rvs(2, size=100)\n",
    "\n",
    "pd.Series(sample).plot.hist()\n",
    "plt.show()"
   ]
  },
  {
   "cell_type": "markdown",
   "metadata": {},
   "source": [
    "se generan 100 numeros aleatorios apartir de la distribucion de poisson con un lambda de 2 (numero medio de eventos que ocurren en un intervalo de tiempo o espacio especifico)\n",
    "ej: si el promedio de llamadas entrantes de servicio al cliente es de 2 por minutos, este codigo simulara 100 minutos, porporcionando el resultado de la cantidad de llamadas en cada uno de esos 100 minutos"
   ]
  },
  {
   "cell_type": "markdown",
   "metadata": {},
   "source": [
    "### Distribucion exponencial"
   ]
  },
  {
   "cell_type": "code",
   "execution_count": 12,
   "metadata": {},
   "outputs": [
    {
     "data": {
      "image/png": "[encoded data removed]",
      "text/plain": [
       "<Figure size 432x288 with 1 Axes>"
      ]
     },
     "metadata": {
      "needs_background": "light"
     },
     "output_type": "display_data"
    }
   ],
   "source": [
    "sample_expo=stats.expon.rvs(scale=5, size=100)\n",
    "\n",
    "pd.Series(sample_expo).plot.hist()\n",
    "plt.show()"
   ]
  },
  {
   "cell_type": "markdown",
   "metadata": {},
   "source": [
    "se generan 100 numeros aleatorios apartir de la distribucion exponencial, donde el numero medio de eventos por periodo de tiempo es de 5, por lo tanto, podriamos usarlo para simular 100 intervalos, en minutos, entre llamadas de servicio, donde la tasa promedio de llamadas entrantes es de 5 por minutos"
   ]
  },
  {
   "cell_type": "markdown",
   "metadata": {},
   "source": [
    "### Distribucion de Weibull"
   ]
  },
  {
   "cell_type": "code",
   "execution_count": 13,
   "metadata": {},
   "outputs": [
    {
     "data": {
      "image/png": "[encoded data removed]",
      "text/plain": [
       "<Figure size 432x288 with 1 Axes>"
      ]
     },
     "metadata": {
      "needs_background": "light"
     },
     "output_type": "display_data"
    }
   ],
   "source": [
    "sample_weibull=stats.weibull_min.rvs(1.5, scale = 5000, size=100)\n",
    "\n",
    "pd.Series(sample_weibull).plot.hist()\n",
    "plt.show()"
   ]
  },
  {
   "cell_type": "markdown",
   "metadata": {},
   "source": [
    "el anterior codigo genera 100 numeros aleatorios (vida utiles) a partir de una distribucion de weibull con unparametro de forma de 1.5 y vida caractetistica de 5000"
   ]
  },
  {
   "cell_type": "code",
   "execution_count": null,
   "metadata": {},
   "outputs": [],
   "source": []
  }
 ],
 "metadata": {
  "kernelspec": {
   "display_name": "Python 3",
   "language": "python",
   "name": "python3"
  },
  "language_info": {
   "codemirror_mode": {
    "name": "ipython",
    "version": 3
   },
   "file_extension": ".py",
   "mimetype": "text/x-python",
   "name": "python",
   "nbconvert_exporter": "python",
   "pygments_lexer": "ipython3",
   "version": "3.8.5"
  }
 },
 "nbformat": 4,
 "nbformat_minor": 4
}
